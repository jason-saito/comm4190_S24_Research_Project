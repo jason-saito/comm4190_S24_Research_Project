{
 "cells": [
  {
   "cell_type": "markdown",
   "id": "6c14d9a0-da4a-47db-82c1-40d10efb10ad",
   "metadata": {},
   "source": [
    "# Exploring LLMs"
   ]
  },
  {
   "cell_type": "markdown",
   "id": "cb9b78e1-71ff-44e7-86f3-d74616c38f31",
   "metadata": {},
   "source": [
    "### My Exploration\n",
    "Through out this section, I will be exploring how LLMs can be used in the context of scouting analytics. Specfically I will be walking the Gemini 1.5 Pro model through the scenario of an NBA draft. In this scenario I will be using Gemini 1.5 Pro to conduct video analysis, player evaluation, and generating reports.\n",
    "\n",
    "Through out the exploration we will be telling the LLM that it is a scout for the Philadelphia 76ers back in 2017. They will be determining what player they would like to pick with the first pick of the 2017 NBA draft. In real life, this is also true, as the Philadelphia 76ers traded up to the first pick. \n",
    "\n",
    "### Using Data for Draft Analysis\n",
    "**Prompt:**\n",
    "Continue to pretend that you are a scout for the Philadelphia 76ers. You have the first pick in the 2017 NBA draft this year. Conduct an in-depth analysis of all three of these players and explain which of the three you would like to draft. \n",
    "Compare and contrast each players strengths and weaknesses and explain why you want to draft that prospect in specific\n",
    "You will be provided with their position, height, weight and stats from their college careers. \n",
    "\n",
    "(I attached the [data](data/draft_data.ipynb) here in the prompt) \n",
    "\n",
    "**Response:**\n",
    "> Evaluating Three Top Prospects for the 76ers\n",
    ">\n",
    ">Based on the provided information, the three players under consideration appear to be:\n",
    "> \n",
    ">Player 1: Markelle Fultz (Washington, Guard)\n",
    "> \n",
    ">Player 2: Lonzo Ball (UCLA, Guard)\n",
    "> \n",
    ">Player 3: Jayson Tatum (Duke, Forward)\n",
    ">\n",
    ">Let's dive into a deeper analysis of each player, comparing their strengths and weaknesses to determine the best fit for the Philadelphia 76ers with the first pick in the 2017 NBA Draft.\n",
    ">\n",
    ">Player 1: Markelle Fultz\n",
    ">\n",
    ">Strengths: Fultz is the most well-rounded offensive player of the three. He boasts impressive scoring versatility, shooting efficiently from both inside and outside the arc. His 47.6% field goal percentage and 41.3% three-point percentage showcase his ability to score at all three levels. Additionally, his 5.9 assists per game highlight his playmaking skills and potential to be a primary ball-handler.\n",
    "> \n",
    ">Weaknesses: His defensive stats, while decent, don't stand out as much as his offensive prowess. He averaged 1.6 steals and 1.2 blocks per game, suggesting he has the potential to be a solid defender but may need to improve his consistency and effort on that end.\n",
    ">\n",
    ">Player 2: Lonzo Ball\n",
    ">\n",
    ">Strengths: Ball is an elite passer and floor general. His 7.6 assists per game lead the pack, demonstrating his exceptional court vision and ability to elevate his teammates. He's also a good rebounder for his position, averaging 6.0 rebounds per game, which would aid the 76ers in transition opportunities.\n",
    ">\n",
    ">Weaknesses: Ball's shooting is a major concern. While his 55.1% field goal percentage looks good, his 41.2% three-point percentage is less impressive when considering his unorthodox shooting form and potential for inconsistency. His lower steals and blocks averages also raise questions about his defensive impact at the NBA level.\n",
    ">\n",
    ">Player 3: Jayson Tatum\n",
    ">Strengths: Tatum is a gifted scorer with a knack for creating his own shot. He demonstrates impressive efficiency inside the arc with a 50.4% two-point percentage. His 84.9% free throw percentage suggests a smooth shooting stroke and potential for improvement beyond the arc. Additionally, he shows promise as a defender with 1.3 steals and 1.1 blocks per game.\n",
    ">\n",
    ">Weaknesses: Compared to Fultz and Ball, Tatum's playmaking is less developed, averaging only 2.1 assists per game. While he can create for himself, he might not be the ideal primary ball-handler the 76ers need.\n",
    ">\n",
    ">**Draft Recommendation: Markelle Fultz**\n",
    "> Considering the 76ers' need for a player who can create offense and be a cornerstone for the future, Markelle Fultz stands out as the best choice for the first pick. His well-rounded offensive skillset, shooting efficiency, and playmaking ability make him the ideal complement to Ben Simmons and Joel Embiid. While his defense needs some development, his offensive potential and fit within the team outweigh this concern.\n",
    "> Ball's passing is phenomenal, but his shooting inconsistencies and potential fit issues with Simmons make him a riskier selection. Tatum's scoring prowess is impressive, but his lack of elite playmaking makes him less valuable to the 76ers' specific needs.\n",
    ">\n",
    "> Therefore, I confidently recommend drafting Markelle Fultz with the first pick. His potential to be a superstar and the perfect fit alongside Simmons and Embiid make him the ideal choice to lead the 76ers to long-term success.\n",
    "\n",
    "**Thoughts**\n",
    "It was really shocking to me that the LLM knew the name of the players I provided the data for. The Gemini 1.5 Pro model was able to correctly keep track of all the statistics I told it, and described all of the players' stats correctly. This accuracy seems almost too good to be true, which makes me think that the model is relying on its internet access rather than its knowledge from the prompt.\n",
    "\n",
    "### Following up with Gemini\n",
    "I then decided to ask it, how it knew the players' names.\n",
    "\n",
    "**Prompt:** \n",
    "How did you know the players names, I did not provide them?\n",
    "\n",
    "**Response:**\n",
    "You are absolutely right, you didn't explicitly provide the names of the players. However, based on the information you provided about their positions, heights, weights, and college statistics, I was able to make an educated guess that the players were Markelle Fultz, Lonzo Ball, and Jayson Tatum. These three players were widely considered the top prospects in the 2017 NBA Draft, and their statistics align with the data you provided. I apologize if this caused any confusion. As a large language model, I am trained on a massive dataset of text and code, which allows me to make connections and inferences based on the information provided. However, I am still under development and learning to be more precise in my responses.\n",
    "\n",
    "**Thoughts**\n",
    "This response checks out, but I still beleive that it is relying on its access to the internet to make these analyses and statistics.\n",
    "\n",
    "### Preventing Searching\n",
    "To prevent the model from relying purely on the internet for its answers, I attempted to "
   ]
  },
  {
   "cell_type": "markdown",
   "id": "fdafd2be-9ff5-47ec-a43c-a837487a5e20",
   "metadata": {},
   "source": [
    "# References\n",
    "<!-- BIBLIOGRAPHY START -->\n",
    "<div class=\"csl-bib-body\">\n",
    "</div>\n",
    "<!-- BIBLIOGRAPHY END -->"
   ]
  },
  {
   "cell_type": "code",
   "execution_count": null,
   "id": "b7f61c9f-9259-46aa-be38-cd3de4048674",
   "metadata": {},
   "outputs": [],
   "source": []
  }
 ],
 "metadata": {
  "citation-manager": {
   "items": {}
  },
  "kernelspec": {
   "display_name": "Python 3.11 (COMM4190)",
   "language": "python",
   "name": "comm4190"
  },
  "language_info": {
   "codemirror_mode": {
    "name": "ipython",
    "version": 3
   },
   "file_extension": ".py",
   "mimetype": "text/x-python",
   "name": "python",
   "nbconvert_exporter": "python",
   "pygments_lexer": "ipython3",
   "version": "3.11.7"
  }
 },
 "nbformat": 4,
 "nbformat_minor": 5
}
