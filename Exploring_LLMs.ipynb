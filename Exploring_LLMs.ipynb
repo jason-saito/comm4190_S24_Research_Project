{
 "cells": [
  {
   "cell_type": "markdown",
   "id": "6c14d9a0-da4a-47db-82c1-40d10efb10ad",
   "metadata": {},
   "source": [
    "# Exploring LLMs"
   ]
  },
  {
   "cell_type": "markdown",
   "id": "cb9b78e1-71ff-44e7-86f3-d74616c38f31",
   "metadata": {},
   "source": [
    "### My Exploration\n",
    "Through out this section, I will be exploring how LLMs can be used in the context of scouting analytics. Specfically I will be walking the Gemini 1.5 Pro model through the scenario of an NBA draft. In this scenario I will be using Gemini 1.5 Pro to conduct video analysis, player evaluation, and generating reports.\n",
    "\n",
    "Through out the exploration we will be telling the LLM that it is a scout for the Philadelphia 76ers back in 2017. They will be determining what player they would like to pick with the first pick of the 2017 NBA draft. In real life, this is also true, as the Philadelphia 76ers traded up to the first pick. \n",
    "\n",
    "### Using Data for Draft Analysis\n",
    "**Prompt:**\n",
    "Continue to pretend that you are a scout for the Philadelphia 76ers. You have the first pick in the 2017 NBA draft this year. Conduct an in-depth analysis of all three of these players and explain which of the three you would like to draft. \n",
    "Compare and contrast each players strengths and weaknesses and explain why you want to draft that prospect in specific\n",
    "You will be provided with their position, height, weight and stats from their college careers. \n",
    "\n",
    "(I attached the [data](data/draft_data.ipynb) here in the prompt) \n",
    "\n",
    "**Response:**\n",
    "\n",
    "**Thoughts**\n"
   ]
  },
  {
   "cell_type": "markdown",
   "id": "fdafd2be-9ff5-47ec-a43c-a837487a5e20",
   "metadata": {},
   "source": [
    "# References\n",
    "<!-- BIBLIOGRAPHY START -->\n",
    "<div class=\"csl-bib-body\">\n",
    "</div>\n",
    "<!-- BIBLIOGRAPHY END -->"
   ]
  },
  {
   "cell_type": "code",
   "execution_count": null,
   "id": "b7f61c9f-9259-46aa-be38-cd3de4048674",
   "metadata": {},
   "outputs": [],
   "source": []
  }
 ],
 "metadata": {
  "citation-manager": {
   "items": {}
  },
  "kernelspec": {
   "display_name": "Python 3.11 (COMM4190)",
   "language": "python",
   "name": "comm4190"
  },
  "language_info": {
   "codemirror_mode": {
    "name": "ipython",
    "version": 3
   },
   "file_extension": ".py",
   "mimetype": "text/x-python",
   "name": "python",
   "nbconvert_exporter": "python",
   "pygments_lexer": "ipython3",
   "version": "3.11.7"
  }
 },
 "nbformat": 4,
 "nbformat_minor": 5
}
