{
 "cells": [
  {
   "cell_type": "markdown",
   "id": "6c14d9a0-da4a-47db-82c1-40d10efb10ad",
   "metadata": {},
   "source": [
    "# Exploring LLMs"
   ]
  },
  {
   "cell_type": "markdown",
   "id": "cb9b78e1-71ff-44e7-86f3-d74616c38f31",
   "metadata": {
    "citation-manager": {
     "citations": {
      "ah8al": [
       {
        "id": "17220151/EJLJKW95",
        "source": "zotero"
       }
      ],
      "q65xf": [
       {
        "id": "17220151/DB2ATMFT",
        "source": "zotero"
       }
      ]
     }
    }
   },
   "source": [
    "Hi this is an example <cite id=\"ah8al\"><a href=\"#zotero%7C17220151%2FEJLJKW95\">(<i>Sport, Language, and Culture</i>, n.d.)</a></cite>\n",
    "\n",
    "Another one <cite id=\"q65xf\"><a href=\"#zotero%7C17220151%2FDB2ATMFT\">(<i>The Next Revolution of AI in Sport - Large Language Models | MIT Sloan Sports Analytics Conference</i>, n.d.)</a></cite>"
   ]
  },
  {
   "cell_type": "markdown",
   "id": "fdafd2be-9ff5-47ec-a43c-a837487a5e20",
   "metadata": {},
   "source": [
    "# References\n",
    "<!-- BIBLIOGRAPHY START -->\n",
    "<div class=\"csl-bib-body\">\n",
    "  <div class=\"csl-entry\"><i id=\"zotero|17220151/EJLJKW95\"></i><i>Sport, Language, and Culture: Issues and Intersections</i>. (n.d.). <a href=\"https://doi.org/10.1177/0261927X10368830\">https://doi.org/10.1177/0261927X10368830</a></div>\n",
    "  <div class=\"csl-entry\"><i id=\"zotero|17220151/DB2ATMFT\"></i><i>The Next Revolution of AI in Sport - Large Language Models | MIT Sloan Sports Analytics Conference</i>. (n.d.). Retrieved March 28, 2024, from <a href=\"https://www.sloansportsconference.com/event/the-next-revolution-of-ai-in-sport-large-language-models\">https://www.sloansportsconference.com/event/the-next-revolution-of-ai-in-sport-large-language-models</a></div>\n",
    "</div>\n",
    "<!-- BIBLIOGRAPHY END -->"
   ]
  },
  {
   "cell_type": "code",
   "execution_count": null,
   "id": "b7f61c9f-9259-46aa-be38-cd3de4048674",
   "metadata": {},
   "outputs": [],
   "source": []
  }
 ],
 "metadata": {
  "citation-manager": {
   "items": {
    "zotero": {
     "17220151/DB2ATMFT": {
      "URL": "https://www.sloansportsconference.com/event/the-next-revolution-of-ai-in-sport-large-language-models",
      "accessed": {
       "date-parts": [
        [
         2024,
         3,
         28
        ]
       ]
      },
      "id": "17220151/DB2ATMFT",
      "system_id": "zotero|17220151/DB2ATMFT",
      "title": "The Next Revolution of AI in Sport - Large Language Models | MIT Sloan Sports Analytics Conference",
      "type": "webpage"
     },
     "17220151/EJLJKW95": {
      "URL": "https://journals.sagepub.com/doi/epdf/10.1177/0261927X10368830",
      "accessed": {
       "date-parts": [
        [
         2024,
         4,
         4
        ]
       ]
      },
      "id": "17220151/EJLJKW95",
      "language": "en",
      "note": "DOI: 10.1177/0261927X10368830",
      "shortTitle": "Sport, Language, and Culture",
      "system_id": "zotero|17220151/EJLJKW95",
      "title": "Sport, Language, and Culture: Issues and Intersections",
      "type": "webpage"
     }
    }
   }
  },
  "kernelspec": {
   "display_name": "Python 3.11 (COMM4190)",
   "language": "python",
   "name": "comm4190"
  },
  "language_info": {
   "codemirror_mode": {
    "name": "ipython",
    "version": 3
   },
   "file_extension": ".py",
   "mimetype": "text/x-python",
   "name": "python",
   "nbconvert_exporter": "python",
   "pygments_lexer": "ipython3",
   "version": "3.11.7"
  }
 },
 "nbformat": 4,
 "nbformat_minor": 5
}
