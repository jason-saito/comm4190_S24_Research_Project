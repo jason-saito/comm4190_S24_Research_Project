{
 "cells": [
  {
   "cell_type": "markdown",
   "id": "89667b22-565e-4eaf-af61-f98f8e486966",
   "metadata": {},
   "source": [
    "# Conclusion"
   ]
  },
  {
   "cell_type": "markdown",
   "id": "6e3c160b-8c21-448f-ab05-8c3b8a757189",
   "metadata": {
    "citation-manager": {
     "citations": {
      "9kn5i": [],
      "hj7ur": [],
      "jfsfh": []
     }
    }
   },
   "source": [
    "### In General:\n",
    "At the moment LLMs in general, struggle to understand sports and although LLMs can currently answer fact-based questions. When dealing with more rule-based, scenario, or expert level questions that involve a true knowledge of sports, these LLMs really struggle <cite id=\"hj7ur\"><a href=\"#zotero%7C17220151%2FA7PNLSS5\">(Xia et al., 2024)</a></cite>.\n",
    "\n",
    "This is mainly because sports is not natural language. There are many terms and nuances when discussing sports, that someone needs to understand in order to really talk about it and understand what they are talking about. Due to the nature of LLMs as \"next-word predictors,\" it seems confident and able to talk about sports <cite id=\"jfsfh\"><a href=\"#zotero%7C17220151%2FF8Z32QVX\">(<i>2. Introduction to Large Language Models for Text Generation</i>, n.d.)</a></cite>. But in reality, LLMs at the moment struggle to really understand sports. \n",
    "\n",
    "Often, even with fact-based questions, LLMs can hallucinate and provide false answers. This output can be dangerous for someone who doesn't know enough about the sport they are prompting about to know that the output is false. This is due to a mix of factors. The main ones being that in general, AI hallucinates and the other being that most LLMs such as ChatGPT 3.5, are not up to date<cite id=\"9kn5i\"><a href=\"#zotero%7C17220151%2FIWZG4XZB\">(<i>1. The Five Principles of Prompting</i>, n.d.)</a></cite>. Thus, asking the model questions about a basketball game that happened last night, will often yield false answers. \n",
    "\n",
    "It is very important that we understand what LLMs can and can not do at the moment.\n",
    "\n",
    "\n",
    "### Looking to the Future:\n",
    "However, the use of LLMs for Sports Analysts is bright."
   ]
  },
  {
   "cell_type": "markdown",
   "id": "6d5ef6d2-8ef6-49b7-9adc-7e476161e6c5",
   "metadata": {},
   "source": [
    "<!-- BIBLIOGRAPHY START -->\n",
    "<div class=\"csl-bib-body\">\n",
    "</div>\n",
    "<!-- BIBLIOGRAPHY END -->"
   ]
  }
 ],
 "metadata": {
  "citation-manager": {
   "items": {}
  },
  "kernelspec": {
   "display_name": "Python 3.11 (COMM4190)",
   "language": "python",
   "name": "comm4190"
  },
  "language_info": {
   "codemirror_mode": {
    "name": "ipython",
    "version": 3
   },
   "file_extension": ".py",
   "mimetype": "text/x-python",
   "name": "python",
   "nbconvert_exporter": "python",
   "pygments_lexer": "ipython3",
   "version": "3.11.7"
  }
 },
 "nbformat": 4,
 "nbformat_minor": 5
}
