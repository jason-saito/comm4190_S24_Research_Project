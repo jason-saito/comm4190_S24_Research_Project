{
 "cells": [
  {
   "cell_type": "markdown",
   "id": "a8468ae0-f92d-483a-a45c-4c2a33f87cd3",
   "metadata": {},
   "source": [
    "# Potential Challenges When Using LLMs\n",
    "- not natural language\n",
    "- sports is generated language\n",
    "- talk about SportsSett and its implications\n",
    "- this means __\n",
    "- because of this it's hard for LLMs to\n",
    "\n",
    "- Potential Challenges to Overcome\n",
    "\n",
    "\"The \"Hallucination\" Problem: LLMs may generate inaccurate information. Verification against trusted data sources and using LLMs for specific tasks (summaries, comparisons) rather than holistic analysis is crucial.\n",
    "Data Quality Limitations: The amount of well-structured and tagged basketball footage, especially at lower levels, might present a challenge for video analysis.\n",
    "Subjectivity: Areas like team fit and player character are hard for LLMs to grasp. The human element remains essential.\"\n",
    "\n",
    "- however, LLMs are good at this\n",
    "- potential use 1\n",
    "- potential use 2\n",
    "- potential use 3\n",
    "\n",
    "- really important to know what LLMs can and can not do at the moement\n",
    "- talk about the trasnformer network -- cite the MIT thign\n"
   ]
  },
  {
   "cell_type": "markdown",
   "id": "15d6ed82-a03b-4e4a-bfc6-32e68f5be608",
   "metadata": {},
   "source": [
    "# state of the two interactions at the moment?"
   ]
  },
  {
   "cell_type": "code",
   "execution_count": null,
   "id": "562fb6d6-6c79-4334-a4b4-3279df4a44f8",
   "metadata": {},
   "outputs": [],
   "source": []
  }
 ],
 "metadata": {
  "citation-manager": {
   "items": {}
  },
  "kernelspec": {
   "display_name": "Python 3.11 (COMM4190)",
   "language": "python",
   "name": "comm4190"
  },
  "language_info": {
   "codemirror_mode": {
    "name": "ipython",
    "version": 3
   },
   "file_extension": ".py",
   "mimetype": "text/x-python",
   "name": "python",
   "nbconvert_exporter": "python",
   "pygments_lexer": "ipython3",
   "version": "3.11.7"
  }
 },
 "nbformat": 4,
 "nbformat_minor": 5
}
