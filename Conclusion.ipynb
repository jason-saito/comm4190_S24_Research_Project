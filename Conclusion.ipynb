{
 "cells": [
  {
   "cell_type": "markdown",
   "id": "a8468ae0-f92d-483a-a45c-4c2a33f87cd3",
   "metadata": {},
   "source": [
    "# Potential Challenges When Using LLMs\n",
    "- not natural language\n",
    "- sports is generated language\n",
    "- talk about SportsSett and its implications\n",
    "- this means __\n",
    "- because of this it's hard for LLMs to\n",
    "\n",
    "- Potential Challenges to Overcome\n",
    "\n",
    "\"The \"Hallucination\" Problem: LLMs may generate inaccurate information. Verification against trusted data sources and using LLMs for specific tasks (summaries, comparisons) rather than holistic analysis is crucial.\n",
    "Data Quality Limitations: The amount of well-structured and tagged basketball footage, especially at lower levels, might present a challenge for video analysis.\n",
    "Subjectivity: Areas like team fit and player character are hard for LLMs to grasp. The human element remains essential.\"\n",
    "\n",
    "- however, LLMs are good at this\n",
    "- potential use 1\n",
    "- potential use 2\n",
    "- potential use 3\n",
    "\n",
    "- really important to know what LLMs can and can not do at the moement\n",
    "- talk about the trasnformer network -- cite the MIT thign\n"
   ]
  },
  {
   "cell_type": "markdown",
   "id": "15d6ed82-a03b-4e4a-bfc6-32e68f5be608",
   "metadata": {
    "citation-manager": {
     "citations": {
      "o333t": [
       {
        "id": "17220151/UWYAU6PB",
        "source": "zotero"
       }
      ],
      "stqoj": [
       {
        "id": "17220151/UWYAU6PB",
        "source": "zotero"
       }
      ],
      "wg2p9": [
       {
        "id": "17220151/UWYAU6PB",
        "source": "zotero"
       }
      ]
     }
    }
   },
   "source": [
    "# state of the two interactions at the moment?\n",
    "\n",
    "It seems that there is some improvements being made to the interactions of LLMs with basketball and sports analytics. Specifically, they're aiming to fix the issues associatied with Natural Language Generation (NLG) and creating basketball game summaries<cite id=\"wg2p9\"><a href=\"#zotero%7C17220151%2FUWYAU6PB\">(Thomson et al., 2020)</a></cite>.\n",
    "\n",
    "The paper points to the current resources available and how these datasets lack the data needed for generating summaries using advanced data analytics. A useful resource that exists is called the \"Rotowire and Rotowire-FG datasets.<cite id=\"stqoj\"><a href=\"#zotero%7C17220151%2FUWYAU6PB\">(Thomson et al., 2020)</a></cite>\" These datasets contain game summaries, box scores, and statistics to supplement the game summaries. While they contain a large amount of data there are some limitations to these datasets <cite id=\"o333t\"><a href=\"#zotero%7C17220151%2FUWYAU6PB\">(Thomson et al., 2020)</a></cite>.\n",
    "\n",
    "However this dataset is hard to evaluate "
   ]
  },
  {
   "cell_type": "code",
   "execution_count": null,
   "id": "562fb6d6-6c79-4334-a4b4-3279df4a44f8",
   "metadata": {},
   "outputs": [],
   "source": []
  }
 ],
 "metadata": {
  "citation-manager": {
   "items": {
    "zotero": {
     "17220151/UWYAU6PB": {
      "URL": "https://aclanthology.org/2020.intellang-1.4",
      "accessed": {
       "date-parts": [
        [
         2024,
         5,
         8
        ]
       ]
      },
      "author": [
       {
        "family": "Thomson",
        "given": "Craig"
       },
       {
        "family": "Reiter",
        "given": "Ehud"
       },
       {
        "family": "Sripada",
        "given": "Somayajulu"
       }
      ],
      "container-title": "Proceedings of the Workshop on Intelligent Information Processing and Natural Language Generation",
      "editor": [
       {
        "family": "Sánchez",
        "given": "Daniel"
       },
       {
        "family": "Hervás",
        "given": "Raquel"
       },
       {
        "family": "Gatt",
        "given": "Albert"
       }
      ],
      "event": "IntelLanG 2020",
      "event-place": "Santiago de Compostela, Spain",
      "id": "17220151/UWYAU6PB",
      "issued": {
       "date-parts": [
        [
         2020,
         9
        ]
       ]
      },
      "page": "32–40",
      "publisher": "Association for Computational Lingustics",
      "publisher-place": "Santiago de Compostela, Spain",
      "shortTitle": "SportSett",
      "system_id": "zotero|17220151/UWYAU6PB",
      "title": "SportSett:Basketball - A robust and maintainable data-set for Natural Language Generation",
      "type": "paper-conference"
     }
    }
   }
  },
  "kernelspec": {
   "display_name": "Python 3.11 (COMM4190)",
   "language": "python",
   "name": "comm4190"
  },
  "language_info": {
   "codemirror_mode": {
    "name": "ipython",
    "version": 3
   },
   "file_extension": ".py",
   "mimetype": "text/x-python",
   "name": "python",
   "nbconvert_exporter": "python",
   "pygments_lexer": "ipython3",
   "version": "3.11.7"
  }
 },
 "nbformat": 4,
 "nbformat_minor": 5
}
