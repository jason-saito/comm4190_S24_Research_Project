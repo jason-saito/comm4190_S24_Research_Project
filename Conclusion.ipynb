{
 "cells": [
  {
   "cell_type": "markdown",
   "id": "a8468ae0-f92d-483a-a45c-4c2a33f87cd3",
   "metadata": {},
   "source": [
    "# Potential Challenges When Using LLMs\n",
    "- not natural language\n",
    "- sports is generated language\n",
    "- talk about SportsSett and its implications\n",
    "- this means __\n",
    "- because of this it's hard for LLMs to\n",
    "\n",
    "- Potential Challenges to Overcome\n",
    "\n",
    "\"The \"Hallucination\" Problem: LLMs may generate inaccurate information. Verification against trusted data sources and using LLMs for specific tasks (summaries, comparisons) rather than holistic analysis is crucial.\n",
    "Data Quality Limitations: The amount of well-structured and tagged basketball footage, especially at lower levels, might present a challenge for video analysis.\n",
    "Subjectivity: Areas like team fit and player character are hard for LLMs to grasp. The human element remains essential.\"\n",
    "\n",
    "- however, LLMs are good at this\n",
    "- potential use 1\n",
    "- potential use 2\n",
    "- potential use 3\n",
    "\n",
    "- really important to know what LLMs can and can not do at the moement\n",
    "- talk about the trasnformer network -- cite the MIT thign\n"
   ]
  },
  {
   "cell_type": "markdown",
   "id": "89667b22-565e-4eaf-af61-f98f8e486966",
   "metadata": {},
   "source": [
    "# Conclusion"
   ]
  },
  {
   "cell_type": "markdown",
   "id": "6e3c160b-8c21-448f-ab05-8c3b8a757189",
   "metadata": {
    "citation-manager": {
     "citations": {
      "9kn5i": [],
      "hj7ur": [],
      "jfsfh": []
     }
    }
   },
   "source": [
    "At the moment LLMs struggle to understand sports and although LLMs can currently answer fact-based questions. When dealing with more rule-based, scenario, or expert level questions that involve a true knowledge of sports, these LLMs really struggle <cite id=\"hj7ur\"><a href=\"#zotero%7C17220151%2FA7PNLSS5\">(Xia et al., 2024)</a></cite>.\n",
    "\n",
    "This is mainly because sports is not natural language. There are many terms and nuances when discussing sports, that someone needs to understand in order to really talk about it and understand what they are talking about. Due to the nature of LLMs as \"next-word predictors,\" it seems confident and able to talk about sports <cite id=\"jfsfh\"><a href=\"#zotero%7C17220151%2FF8Z32QVX\">(<i>2. Introduction to Large Language Models for Text Generation</i>, n.d.)</a></cite>. But in reality, LLMs at the moment struggle to really understand sports. \n",
    "\n",
    "Often, even with fact-based questions, LLMs can hallucinate and provide false answers. This output can be dangerous for someone who doesn't know enough about the sport they are prompting about to know that the output is false. This is due to a mix of factors. The main ones being that in general, AI hallucinates and the other being that most LLMs such as ChatGPT 3.5, are not up to date<cite id=\"9kn5i\"><a href=\"#zotero%7C17220151%2FIWZG4XZB\">(<i>1. The Five Principles of Prompting</i>, n.d.)</a></cite>. Thus, asking the model questions about a basketball game that happened last night, will often yield false answers. \n",
    "\n",
    "Overall, it is very important that we understand what LLMs can and can not do at the moment."
   ]
  },
  {
   "cell_type": "markdown",
   "id": "f469291d-e685-49cf-a169-208855939021",
   "metadata": {},
   "source": [
    "# Sources\n",
    "<!-- BIBLIOGRAPHY START -->\n",
    "<div class=\"csl-bib-body\">\n",
    "</div>\n",
    "<!-- BIBLIOGRAPHY END -->"
   ]
  },
  {
   "cell_type": "markdown",
   "id": "6d5ef6d2-8ef6-49b7-9adc-7e476161e6c5",
   "metadata": {},
   "source": [
    "<!-- BIBLIOGRAPHY START -->\n",
    "<div class=\"csl-bib-body\">\n",
    "</div>\n",
    "<!-- BIBLIOGRAPHY END -->"
   ]
  },
  {
   "cell_type": "code",
   "execution_count": null,
   "id": "0486c547-4bfd-4303-8642-147e4a11718c",
   "metadata": {},
   "outputs": [],
   "source": []
  }
 ],
 "metadata": {
  "citation-manager": {
   "items": {}
  },
  "kernelspec": {
   "display_name": "Python 3.11 (COMM4190)",
   "language": "python",
   "name": "comm4190"
  },
  "language_info": {
   "codemirror_mode": {
    "name": "ipython",
    "version": 3
   },
   "file_extension": ".py",
   "mimetype": "text/x-python",
   "name": "python",
   "nbconvert_exporter": "python",
   "pygments_lexer": "ipython3",
   "version": "3.11.7"
  }
 },
 "nbformat": 4,
 "nbformat_minor": 5
}
