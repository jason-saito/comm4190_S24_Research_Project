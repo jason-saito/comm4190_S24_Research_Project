{
 "cells": [
  {
   "cell_type": "markdown",
   "id": "1408f148-4da4-4c7f-a6c5-0498dd2e3ca2",
   "metadata": {
    "citation-manager": {
     "citations": {
      "1e66l": [
       {
        "id": "17220151/U9CMDEDA",
        "source": "zotero"
       }
      ],
      "3m0t3": [
       {
        "id": "17220151/WVE6MNJD",
        "source": "zotero"
       }
      ],
      "3zcdn": [
       {
        "id": "17220151/WVE6MNJD",
        "source": "zotero"
       }
      ],
      "px6x6": [
       {
        "id": "17220151/U9CMDEDA",
        "source": "zotero"
       }
      ],
      "wmqdb": [
       {
        "id": "17220151/U9CMDEDA",
        "source": "zotero"
       }
      ],
      "z92py": [
       {
        "id": "17220151/WVE6MNJD",
        "source": "zotero"
       }
      ],
      "znyhr": [
       {
        "id": "17220151/WVE6MNJD",
        "source": "zotero"
       }
      ]
     }
    }
   },
   "source": [
    "# Sports Analytics as a Communicative Context\n",
    "## What is a Sports Analyst?\n",
    "According to Teal, a Sports Analyst is someone who analyzes data and utilizes statistics to interpret and communicate insights to various members of an organization. They can have an influence on game strategy as well as player trades and signings. These analysts can also use their findings to make changes to help an organization change its business strategies. Specifically, they can influence marketing strategies, fan engagement, and financial decisions <cite id=\"px6x6\"><a href=\"#zotero%7C17220151%2FU9CMDEDA\">(<i>What Is a Sports Analyst?</i>, n.d.)</a></cite>.\n",
    "\n",
    "There are many different concentrations among sports analysts. The two main types of analysts that we will explore in this project are Scouting Analysts and Game Analysts. \n",
    "\n",
    "### Scouting Analysts\n",
    "Scouting Analysts evaluate and seek talent for their organizations. They mainly analyze statistics and videos and use traditional scouting methods to evaluate athletes. These analysts consider not only raw talent but also how these players fit within their team’s schemes and systems<cite id=\"3m0t3\"><a href=\"#zotero%7C17220151%2FWVE6MNJD\">(Drapkin, 2024)</a></cite>. Their findings are often presented in terms of scouting reports to General Managers and decision makers for the organization. They often collaborate with the scouting team to provide quantitative metrics for the scouts’ observations<cite id=\"znyhr\"><a href=\"#zotero%7C17220151%2FWVE6MNJD\">(Drapkin, 2024)</a></cite>. \n",
    "\n",
    "These analysts are especially valuable for organizations that value recruitment through trades and free agency, such as basketball, football, and baseball teams. Throughout the project, we will discuss the implications of LLMs for strategic analysts for basketball teams <cite id=\"1e66l\"><a href=\"#zotero%7C17220151%2FU9CMDEDA\">(<i>What Is a Sports Analyst?</i>, n.d.)</a></cite>.\n",
    "\n",
    "### Game Analysts\n",
    "Game Analysts focus on game strategy. They analyze previous games and scout opponents to develop game plans and strategies. \n",
    "\n",
    "They often examine player and team tendencies, look for key matchups, and strive to create winning strategies. They provide these insights in the form of reports to the coaching staff<cite id=\"3zcdn\"><a href=\"#zotero%7C17220151%2FWVE6MNJD\">(Drapkin, 2024)</a></cite>. A huge part of their job is tailoring their findings so that the coaching staff will find it useful and often have to reformat their findings to allow the coaches to get the most out of it. This usually involves creating data visualizations and data tables to clearly communicate their data<cite id=\"z92py\"><a href=\"#zotero%7C17220151%2FWVE6MNJD\">(Drapkin, 2024)</a></cite>. \n",
    "\n",
    "These analysts are crucial for basketball and football, where in-game adjustments can be the difference between winning and losing <cite id=\"wmqdb\"><a href=\"#zotero%7C17220151%2FU9CMDEDA\">(<i>What Is a Sports Analyst?</i>, n.d.)</a></cite>.\n",
    "\n",
    "### Focus of the Project\n",
    "For the rest of the project, we will explore how LLMs can help these two types of Analysts in basketball organizations. \n"
   ]
  },
  {
   "cell_type": "markdown",
   "id": "3f3f3698-def6-4304-bf59-49f6a5100ecb",
   "metadata": {
    "citation-manager": {
     "citations": {
      "1cnii": [
       {
        "id": "17220151/YX778JRR",
        "source": "zotero"
       }
      ],
      "1oyfs": [
       {
        "id": "17220151/X8X462Z3",
        "source": "zotero"
       }
      ],
      "4s9uu": [
       {
        "id": "17220151/A7PNLSS5",
        "source": "zotero"
       }
      ],
      "6xzoy": [
       {
        "id": "17220151/X8X462Z3",
        "source": "zotero"
       }
      ],
      "9kj98": [
       {
        "id": "17220151/7XBW5JWB",
        "source": "zotero"
       }
      ],
      "bqnyr": [
       {
        "id": "17220151/6NJJPC72",
        "source": "zotero"
       }
      ],
      "bzfe6": [
       {
        "id": "17220151/6NJJPC72",
        "source": "zotero"
       }
      ],
      "dro3t": [
       {
        "id": "17220151/6NJJPC72",
        "source": "zotero"
       }
      ],
      "kuchd": [],
      "n4lg4": [
       {
        "id": "17220151/X8X462Z3",
        "source": "zotero"
       }
      ],
      "nncda": [
       {
        "id": "17220151/7XBW5JWB",
        "source": "zotero"
       }
      ],
      "nwj4g": [],
      "o333t": [],
      "stqoj": [],
      "tn9ct": [
       {
        "id": "17220151/7XBW5JWB",
        "source": "zotero"
       }
      ],
      "vnj2p": [],
      "wg2p9": [],
      "zg6t9": []
     }
    },
    "jp-MarkdownHeadingCollapsed": true
   },
   "source": [
    "## What is a Large Language Model (LLM)?\n",
    "A LLM is a type of Artificial Intelligence that specializes in recognizing and creating text. <cite id=\"6xzoy\"><a href=\"#zotero%7C17220151%2FX8X462Z3\">(<i>What Is a Large Language Model (LLM)?</i>, n.d.)</a></cite>. Large Language models are built using a transformer model (a neural network) that has been trained on a lot of data <cite id=\"1cnii\"><a href=\"#zotero%7C17220151%2FYX778JRR\">(<i>What Are Large Language Models (LLMs)?</i>, 2024)</a></cite>. \n",
    "\n",
    "These transformer models are type of neural network that is able to learn from the context it’s provided <cite id=\"1oyfs\"><a href=\"#zotero%7C17220151%2FX8X462Z3\">(<i>What Is a Large Language Model (LLM)?</i>, n.d.)</a></cite>. They are able to understand how sentences are connected and how text relates to each other. What makes them really powerful is that they understand the semantic meanings of text, and can associate words and concepts with their meaning <cite id=\"n4lg4\"><a href=\"#zotero%7C17220151%2FX8X462Z3\">(<i>What Is a Large Language Model (LLM)?</i>, n.d.)</a></cite>. \n",
    "\n",
    "### Strengths \n",
    "LLMs are really great at responding to questions. They can understand human language and provide an answer. The way they do this is by learning patterns of language and predicting the next word in a sentence <cite id=\"bzfe6\"><a href=\"#zotero%7C17220151%2F6NJJPC72\">(shanepeckham, 2024)</a></cite>. This makes them specifically useful when generating text. However, with tasks that require logical, advanced, and fact-based answers, these LLMs can struggle <cite id=\"dro3t\"><a href=\"#zotero%7C17220151%2F6NJJPC72\">(shanepeckham, 2024)</a></cite>.\n",
    "\n",
    "### Weaknesses\n",
    "LLMs are known to hallucinate. It is important to know this and to always take the responses from an LLM with a grain of salt. It’s really important that these models are trained on true data, as these LLMs really hallucinate when they are given incorrect information. When using LLMs it’s really important to know these strengths and weaknesses. LLMs often generate confident responses, but their answers might not always be accurate<cite id=\"bqnyr\"><a href=\"#zotero%7C17220151%2F6NJJPC72\">(shanepeckham, 2024)</a></cite>. \n",
    "\n",
    "# Sports and LLMs Currently\n",
    "Talking about sports is very complicated. There are various strategies, statistics, and general knowledge that one must know to truly discuss a sport <cite id=\"4s9uu\"><a href=\"#zotero%7C17220151%2FA7PNLSS5\">(Xia et al., 2024)</a></cite>. At the moment LLMs have shown that it can process and understand language, extract information, and answer questions. However, at the moment it struggles to answer complicated sports questions. This is mainly because of sports as a language.\n",
    "\n",
    "## Sports as a Language\n",
    "When we talk about sports, we often use terms that we've picked up on from watching or playing the sport. These terms are often unknown to those that are unfamilar with the sport and can cause confusion. For example, if I wanted to talk about someone was going for a layup and got fouled when shooting, I would call that an \"And-one.\" To those who are familar with this term, they wouldn't need this explanation. However, it can be very confusing to those who do not understand basketball and its rules, let alone the jargon associated with it. \n",
    "\n",
    "This sport jargon has been created by athletes as a way to communicate <cite id=\"tn9ct\"><a href=\"#zotero%7C17220151%2F7XBW5JWB\">(Kowalikowa, n.d.)</a></cite>. This sports jargon is often used as a way to communicate to others what actions need to be completed<cite id=\"nncda\"><a href=\"#zotero%7C17220151%2F7XBW5JWB\">(Kowalikowa, n.d.)</a></cite>. \n",
    "\n",
    "For example, calling for a \"pick\" in basketball is when an offensive player stands still to the side of their teammate's defender. If done right, the defensive player will be stuck on the person setting the \"pick.\" This allows the teammate to gain space from the defender and score the ball. When somebody (the sender) calls for a pick in basketball, they are assuming that the person they are communicating this to (the receiver) understands this information, and thus can refer to this term without explaining the whole process to them <cite id=\"9kj98\"><a href=\"#zotero%7C17220151%2F7XBW5JWB\">(Kowalikowa, n.d.)</a></cite>. \n",
    "\n",
    "**However, research is currently being conducted to allow for allow LLMs and Sports Analytics be more connected in the future.** \n",
    "\n",
    "# Current Research in LLMs and Sports Analytics\n",
    "\n",
    "### SportQA: A Benchmark to Improve LLM Understanding of Sports\n",
    "SportQA aims to help LLMs gain a better understanding in sports knowledge. Through their research, they hope to allow LLMs to answer more complicated problems about sports rather than simply fact-based questions<cite id=\"nwj4g\"><a href=\"#zotero%7C17220151%2FA7PNLSS5\">(Xia et al., 2024)</a></cite>. Specifically, SportsQA is a large dataset that was created to test an LLM's knowledge of sports by often shuffling players from various sports and plays from different sports to see if the LLM can really understand sports<cite id=\"zg6t9\"><a href=\"#zotero%7C17220151%2FA7PNLSS5\">(Xia et al., 2024)</a></cite>.\n",
    "\n",
    "In the dataset, there are three different types of questions. The first is \"foundational knowledge\" which assesses the LLM's basic understanding of sports and focuses more on fact-based questions. The second type is \"rules and tactics comprehension,\" which involves asking the LLM to understand sports rules and strategies. The last type is \"advanced scenario-based understanding,\" these questions ask the LLM to analyze real sports situations<cite id=\"kuchd\"><a href=\"#zotero%7C17220151%2FA7PNLSS5\">(Xia et al., 2024)</a></cite>. \n",
    "\n",
    "By asking the LLMs these questions, SportsQA hopes to establish a benchmark for testing an LLM's understanding of sports. Overall, their founds showed that the models show promise for understanding facts, rules, and foundational knowledge in sports, but their skills in complicated sports questions are still very limited. Their findings show the need for greater research in Natural Language Processing and Artificial Intelligence to allow LLMs to have a better understanding of sports. \n",
    "\n",
    "### SportsSett: A Solution to Sports and Natural Language Generation\n",
    "It seems that there are some improvements being made to the interactions of LLMs with basketball and sports analytics. Specifically, they're aiming to fix the issues associated with Natural Language Generation (NLG) and creating basketball game summaries<cite id=\"wg2p9\"><a href=\"#zotero%7C17220151%2FUWYAU6PB\">(Thomson et al., 2020)</a></cite>.\n",
    "\n",
    "The paper points to the current resources available and how these datasets lack the data needed for generating summaries using advanced data analytics. A useful resource that exists is called the \"Rotowire and Rotowire-FG datasets.<cite id=\"stqoj\"><a href=\"#zotero%7C17220151%2FUWYAU6PB\">(Thomson et al., 2020)</a></cite>\" These datasets contain game summaries, box scores, and statistics to supplement the game summaries. While they contain a large amount of data, there are some limitations to these datasets <cite id=\"o333t\"><a href=\"#zotero%7C17220151%2FUWYAU6PB\">(Thomson et al., 2020)</a></cite>.\n",
    "\n",
    "However, there are many issues with these two datasets. The proposed solution is a new dataset called \"SportsSett.\" This dataset stores game statistics in a hierarchal structure, which allows the data to be queried from multiple dimensions. This structure will help allow for a richer \"entity-relationship graph <cite id=\"vnj2p\"><a href=\"#zotero%7C17220151%2FUWYAU6PB\">(Thomson et al., 2020)</a></cite>.\"\n",
    "\n",
    "#### Existing Issues with Rotowire and Rotowire-FG\n",
    "The researchers who created SportsSett explained that there are issues with the existing Rotowire and Rotowire-FG datasets in terms of the data structure, availability, and length. In addition, the dataset lacks data on playoff games and preseason games. SportsSett seeks to solve these issues through data cleaning and redesign of data.\n",
    "\n",
    "The SportsSett database hopes to also expand upon the data by adding information such as stadium name and location. This is because, in basketball, home-court advantage and constant traveling can have very real effects on NBA teams. "
   ]
  },
  {
   "cell_type": "markdown",
   "id": "59ebfc2c-16a1-473e-bde9-1143e79226d7",
   "metadata": {},
   "source": [
    "# Future Uses of LLMs in Sports Analytics\n",
    "\n",
    "I believe that LLMs can be used in Sports Analytics. Given overall improvements to the LLMs’ understanding of sports, I believe that there are three main forms of content creation that LLMs could excel at. \n",
    "\n",
    "The first is **player evaluation**. I believe that the LLM will also be able to create comparisons and summaries of various players. In addition, a huge aspect of scouting analytics is being able to quantify fit. If the LLM could conduct this by looking at videos, reports, and statistics, I feel like there could be a lot of value for Sports Analysts as a whole. \n",
    "\n",
    "The second is **video analysis**. I feel that LLMs could be able to accurately analyze videos in the future. Specifically, I feel like LLMs could really provide value to these analysts by finding patterns in the data and describing them. It is really important that the LLM is able to describe the strengths and weaknesses of a player or team strictly based on video. This would allow the analysts to support their data with real-life examples and allow the team to make more informed decisions.\n",
    "\n",
    "Finally, I think LLMs could really excel at **generating reports**. In particular, the LLM could help synthesize information from the scouts with statistics from the analysts. This would allow for customizable reports that contain accurate information from all parties. I think these reports could be used for scouting and game analysis, where draft reports and game strategy reports could both be generated. \n",
    "\n",
    "I will be exploring these three types of content generation in the [next section.](Exploring_LLMs.ipynb)"
   ]
  },
  {
   "cell_type": "markdown",
   "id": "9a3451fa-0f74-47d8-a662-7d2860fec4f7",
   "metadata": {},
   "source": [
    "# Sources\n",
    "<!-- BIBLIOGRAPHY START -->\n",
    "<div class=\"csl-bib-body\">\n",
    "  <div class=\"csl-entry\"><i id=\"zotero|17220151/WVE6MNJD\"></i>Drapkin, Z. (2024, May 9). <i>A Discussion with Zach Drapkin, Quantitative Analyst from the Philadelphia Eagles</i>.</div>\n",
    "  <div class=\"csl-entry\"><i id=\"zotero|17220151/7XBW5JWB\"></i>Kowalikowa, J. (n.d.). <i>STUDIES IN PHYSICAL CULTURE AND TOURISM Vol. 16, No. 1, 2009</i>.</div>\n",
    "  <div class=\"csl-entry\"><i id=\"zotero|17220151/6NJJPC72\"></i>shanepeckham. (2024, January 30). <i>Understanding Large Language Model (LLM) strengths and weaknesses</i>. <a href=\"https://learn.microsoft.com/en-us/ai/playbook/technology-guidance/generative-ai/working-with-llms/use-case-recommend\">https://learn.microsoft.com/en-us/ai/playbook/technology-guidance/generative-ai/working-with-llms/use-case-recommend</a></div>\n",
    "  <div class=\"csl-entry\"><i id=\"zotero|17220151/YX778JRR\"></i><i>What Are Large Language Models (LLMs)? | IBM</i>. (2024, April 2). <a href=\"https://www.ibm.com/topics/large-language-models\">https://www.ibm.com/topics/large-language-models</a></div>\n",
    "  <div class=\"csl-entry\"><i id=\"zotero|17220151/X8X462Z3\"></i><i>What is a large language model (LLM)?</i> (n.d.). Retrieved May 10, 2024, from <a href=\"https://www.cloudflare.com/learning/ai/what-is-large-language-model/\">https://www.cloudflare.com/learning/ai/what-is-large-language-model/</a></div>\n",
    "  <div class=\"csl-entry\"><i id=\"zotero|17220151/U9CMDEDA\"></i><i>What is a Sports Analyst? Explore the Sports Analyst Career Path in 2024</i>. (n.d.). Retrieved May 9, 2024, from <a href=\"https://www.tealhq.com/career-paths/sports-analyst\">https://www.tealhq.com/career-paths/sports-analyst</a></div>\n",
    "  <div class=\"csl-entry\"><i id=\"zotero|17220151/A7PNLSS5\"></i>Xia, H., Yang, Z., Wang, Y., Tracy, R., Zhao, Y., Huang, D., Chen, Z., Zhu, Y., Wang, Y., &#38; Shen, W. (2024). <i>SportQA: A Benchmark for Sports Understanding in Large Language Models</i> (arXiv:2402.15862). arXiv. <a href=\"http://arxiv.org/abs/2402.15862\">http://arxiv.org/abs/2402.15862</a></div>\n",
    "</div>\n",
    "<!-- BIBLIOGRAPHY END -->"
   ]
  },
  {
   "cell_type": "markdown",
   "id": "598c05d9-57e7-48a1-a8c3-345d131ae282",
   "metadata": {},
   "source": [
    "# Next Notebook: [Exploring LLMs](Exploring_LLMs.ipynb)"
   ]
  }
 ],
 "metadata": {
  "citation-manager": {
   "items": {
    "zotero": {
     "17220151/6NJJPC72": {
      "URL": "https://learn.microsoft.com/en-us/ai/playbook/technology-guidance/generative-ai/working-with-llms/use-case-recommend",
      "abstract": "Large language models, such as GPT-3, are powerful tools that can generate natural language across various domains and tasks. However, they are not perfect and have limitations and risks that need to be considered before deciding to use them for real-world use cases. Below, we provide some recommendations for the use cases of large language models.",
      "accessed": {
       "date-parts": [
        [
         2024,
         5,
         10
        ]
       ]
      },
      "author": [
       {
        "family": "shanepeckham",
        "given": ""
       }
      ],
      "id": "17220151/6NJJPC72",
      "issued": {
       "date-parts": [
        [
         2024,
         1,
         30
        ]
       ]
      },
      "language": "en-us",
      "system_id": "zotero|17220151/6NJJPC72",
      "title": "Understanding Large Language Model (LLM) strengths and weaknesses",
      "type": "webpage"
     },
     "17220151/7XBW5JWB": {
      "abstract": "The article discusses various characteristics of the language of sport. First, it is presented as an expression of sport as a human activity in the form of well-defined sport jargon. The cultural origins of sport point to various human desires which had led to the emergence of sport in its substitutional, therapeutic, prophylactic and recreational functions. The language of sport possesses its characteristic lexicon, phraseology, morphology and phonology. Its vocabulary and social functions clearly indicate explicit references to military and warfare terms and patterns of behavior. An important question remains whether the language of modern sport can avoid the process of brutalization.",
      "author": [
       {
        "family": "Kowalikowa",
        "given": "Jadwiga"
       }
      ],
      "id": "17220151/7XBW5JWB",
      "language": "en",
      "system_id": "zotero|17220151/7XBW5JWB",
      "title": "STUDIES IN PHYSICAL CULTURE AND TOURISM Vol. 16, No. 1, 2009",
      "type": "article-journal"
     },
     "17220151/A7PNLSS5": {
      "URL": "http://arxiv.org/abs/2402.15862",
      "abstract": "A deep understanding of sports, a field rich in strategic and dynamic content, is crucial for advancing Natural Language Processing (NLP). This holds particular significance in the context of evaluating and advancing Large Language Models (LLMs), given the existing gap in specialized benchmarks. To bridge this gap, we introduce SportQA, a novel benchmark specifically designed for evaluating LLMs in the context of sports understanding. SportQA encompasses over 70,000 multiple-choice questions across three distinct difficulty levels, each targeting different aspects of sports knowledge from basic historical facts to intricate, scenario-based reasoning tasks. We conducted a thorough evaluation of prevalent LLMs, mainly utilizing few-shot learning paradigms supplemented by chain-of-thought (CoT) prompting. Our results reveal that while LLMs exhibit competent performance in basic sports knowledge, they struggle with more complex, scenario-based sports reasoning, lagging behind human expertise. The introduction of SportQA marks a significant step forward in NLP, offering a tool for assessing and enhancing sports understanding in LLMs.",
      "accessed": {
       "date-parts": [
        [
         2024,
         4,
         4
        ]
       ]
      },
      "author": [
       {
        "family": "Xia",
        "given": "Haotian"
       },
       {
        "family": "Yang",
        "given": "Zhengbang"
       },
       {
        "family": "Wang",
        "given": "Yuqing"
       },
       {
        "family": "Tracy",
        "given": "Rhys"
       },
       {
        "family": "Zhao",
        "given": "Yun"
       },
       {
        "family": "Huang",
        "given": "Dongdong"
       },
       {
        "family": "Chen",
        "given": "Zezhi"
       },
       {
        "family": "Zhu",
        "given": "Yan"
       },
       {
        "family": "Wang",
        "given": "Yuan-fang"
       },
       {
        "family": "Shen",
        "given": "Weining"
       }
      ],
      "id": "17220151/A7PNLSS5",
      "issued": {
       "date-parts": [
        [
         2024,
         2,
         24
        ]
       ]
      },
      "note": "arXiv:2402.15862 [cs]",
      "number": "arXiv:2402.15862",
      "publisher": "arXiv",
      "shortTitle": "SportQA",
      "system_id": "zotero|17220151/A7PNLSS5",
      "title": "SportQA: A Benchmark for Sports Understanding in Large Language Models",
      "type": "article"
     },
     "17220151/U9CMDEDA": {
      "URL": "https://www.tealhq.com/career-paths/sports-analyst",
      "abstract": "Learn what Sports Analysts do on a day to day basis, how Sports Analyst responsibilities change at different career levels, what it's like to be a Sports Analyst in 2024, and more details about this career.",
      "accessed": {
       "date-parts": [
        [
         2024,
         5,
         9
        ]
       ]
      },
      "id": "17220151/U9CMDEDA",
      "language": "en",
      "shortTitle": "What is a Sports Analyst?",
      "system_id": "zotero|17220151/U9CMDEDA",
      "title": "What is a Sports Analyst? Explore the Sports Analyst Career Path in 2024",
      "type": "webpage"
     },
     "17220151/WVE6MNJD": {
      "author": [
       {
        "family": "Drapkin",
        "given": "Zach"
       }
      ],
      "id": "17220151/WVE6MNJD",
      "issued": {
       "date-parts": [
        [
         2024,
         5,
         9
        ]
       ]
      },
      "system_id": "zotero|17220151/WVE6MNJD",
      "title": "A Discussion with Zach Drapkin, Quantitative Analyst from the Philadelphia Eagles",
      "type": "song"
     },
     "17220151/X8X462Z3": {
      "URL": "https://www.cloudflare.com/learning/ai/what-is-large-language-model/",
      "abstract": "Large language models (LLMs) are machine learning models that can comprehend and generate human language text. Learn how LLMs work and their security risks.",
      "accessed": {
       "date-parts": [
        [
         2024,
         5,
         10
        ]
       ]
      },
      "id": "17220151/X8X462Z3",
      "language": "en-us",
      "system_id": "zotero|17220151/X8X462Z3",
      "title": "What is a large language model (LLM)?",
      "type": "webpage"
     },
     "17220151/YX778JRR": {
      "URL": "https://www.ibm.com/topics/large-language-models",
      "abstract": "Large language models are AI systems capable of understanding and generating human language by processing vast amounts of text data.",
      "accessed": {
       "date-parts": [
        [
         2024,
         5,
         10
        ]
       ]
      },
      "id": "17220151/YX778JRR",
      "issued": {
       "date-parts": [
        [
         2024,
         4,
         2
        ]
       ]
      },
      "language": "en-us",
      "shortTitle": "What Are Large Language Models (LLMs)?",
      "system_id": "zotero|17220151/YX778JRR",
      "title": "What Are Large Language Models (LLMs)? | IBM",
      "type": "webpage"
     }
    }
   }
  },
  "kernelspec": {
   "display_name": "Python 3.11 (COMM4190)",
   "language": "python",
   "name": "comm4190"
  },
  "language_info": {
   "codemirror_mode": {
    "name": "ipython",
    "version": 3
   },
   "file_extension": ".py",
   "mimetype": "text/x-python",
   "name": "python",
   "nbconvert_exporter": "python",
   "pygments_lexer": "ipython3",
   "version": "3.11.7"
  }
 },
 "nbformat": 4,
 "nbformat_minor": 5
}
