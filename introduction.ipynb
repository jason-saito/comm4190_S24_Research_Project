{
 "cells": [
  {
   "cell_type": "markdown",
   "id": "c7864412-89da-45e6-8849-273c4bc2cdb3",
   "metadata": {},
   "source": [
    "# What is a Sports Analyst?"
   ]
  },
  {
   "cell_type": "markdown",
   "id": "1408f148-4da4-4c7f-a6c5-0498dd2e3ca2",
   "metadata": {
    "citation-manager": {
     "citations": {
      "px6x6": [
       {
        "id": "17220151/U9CMDEDA",
        "source": "zotero"
       }
      ],
      "v8p0u": [
       {
        "id": "17220151/U9CMDEDA",
        "source": "zotero"
       }
      ]
     }
    }
   },
   "source": [
    "According to Teal, \"a Sports Analyst is a professional who utilizes data, statistical tools, and analytical techniques to interpret and communicate insights pertaining to various aspects of athletic performance, team dynamics, and sports business. They play a crucial role in informing strategy, scouting, player development, and game planning for teams and individual athletes. With a keen eye for patterns and a deep understanding of sports metrics, these analysts transform raw data into actionable intelligence that can provide a competitive edge. Their expertise is not limited to the field of play; sports analysts also influence marketing strategies, fan engagement, and financial decisions within the sports industry. As the realm of sports becomes increasingly data-driven, the role of the Sports Analyst grows ever more integral to the success of sports organizations\" <cite id=\"px6x6\"><a href=\"#zotero%7C17220151%2FU9CMDEDA\">(<i>What Is a Sports Analyst?</i>, n.d.)</a></cite>.\n",
    "\n",
    "The two main types of analysts that we will explore are the Scouting Analysts and the  that we will analyze \n",
    "\n",
    "Among Sports Analysts, there are various concentrations. The main type of analyst that we will be focusing on in this paper is the \"Scouting Analyst.\"\n",
    "This Scouting Analyst is responsible for analyzing and finding talented players for teams to recruit, sign, or even trade for <cite id=\"v8p0u\"><a href=\"#zotero%7C17220151%2FU9CMDEDA\">(<i>What Is a Sports Analyst?</i>, n.d.)</a></cite>. These Scouting Analysts analyze statistics and videos and scout athelete performances."
   ]
  },
  {
   "cell_type": "markdown",
   "id": "59ebfc2c-16a1-473e-bde9-1143e79226d7",
   "metadata": {},
   "source": [
    "# How Can Scouting Analysts Use LLMs?\n",
    "- Video Analysis\n",
    "- \n",
    "- Player Analysis\n",
    "- \n",
    "- Generating Reports\n",
    "- "
   ]
  },
  {
   "cell_type": "markdown",
   "id": "e67f97b8-3965-43fb-bf23-df61b9ec10f5",
   "metadata": {},
   "source": [
    "# Potential Challenges When Using LLMs\n",
    "- not natural language\n",
    "- sports is generated language\n",
    "- this means __\n",
    "- because of this it's hard for LLMs to\n",
    "\n",
    "- however, LLMs are good at this\n",
    "- potential use 1\n",
    "- potential use 2\n",
    "- potential use 3\n"
   ]
  },
  {
   "cell_type": "markdown",
   "id": "230398ad-c782-497d-9301-f3d587a5baf7",
   "metadata": {},
   "source": [
    "# Sources\n",
    "<!-- BIBLIOGRAPHY START -->\n",
    "<div class=\"csl-bib-body\">\n",
    "  <div class=\"csl-entry\"><i id=\"zotero|17220151/U9CMDEDA\"></i><i>What is a Sports Analyst? Explore the Sports Analyst Career Path in 2024</i>. (n.d.). Retrieved May 9, 2024, from <a href=\"https://www.tealhq.com/career-paths/sports-analyst\">https://www.tealhq.com/career-paths/sports-analyst</a></div>\n",
    "</div>\n",
    "<!-- BIBLIOGRAPHY END -->"
   ]
  },
  {
   "cell_type": "code",
   "execution_count": null,
   "id": "10023bd8-75e2-43e5-be34-e14248b60b06",
   "metadata": {},
   "outputs": [],
   "source": []
  }
 ],
 "metadata": {
  "citation-manager": {
   "items": {
    "zotero": {
     "17220151/U9CMDEDA": {
      "URL": "https://www.tealhq.com/career-paths/sports-analyst",
      "abstract": "Learn what Sports Analysts do on a day to day basis, how Sports Analyst responsibilities change at different career levels, what it's like to be a Sports Analyst in 2024, and more details about this career.",
      "accessed": {
       "date-parts": [
        [
         2024,
         5,
         9
        ]
       ]
      },
      "id": "17220151/U9CMDEDA",
      "language": "en",
      "shortTitle": "What is a Sports Analyst?",
      "system_id": "zotero|17220151/U9CMDEDA",
      "title": "What is a Sports Analyst? Explore the Sports Analyst Career Path in 2024",
      "type": "webpage"
     }
    }
   }
  },
  "kernelspec": {
   "display_name": "Python 3.11 (COMM4190)",
   "language": "python",
   "name": "comm4190"
  },
  "language_info": {
   "codemirror_mode": {
    "name": "ipython",
    "version": 3
   },
   "file_extension": ".py",
   "mimetype": "text/x-python",
   "name": "python",
   "nbconvert_exporter": "python",
   "pygments_lexer": "ipython3",
   "version": "3.11.7"
  }
 },
 "nbformat": 4,
 "nbformat_minor": 5
}
