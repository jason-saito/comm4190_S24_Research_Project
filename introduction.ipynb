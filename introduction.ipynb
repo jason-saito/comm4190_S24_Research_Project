{
 "cells": [
  {
   "cell_type": "markdown",
   "id": "5e7f6fcc-b6c9-4eb4-a6eb-81a6d83eec62",
   "metadata": {},
   "source": [
    "# What is an LLM?"
   ]
  },
  {
   "cell_type": "markdown",
   "id": "c7864412-89da-45e6-8849-273c4bc2cdb3",
   "metadata": {},
   "source": [
    "# What is a Sports Analyst?"
   ]
  },
  {
   "cell_type": "markdown",
   "id": "1408f148-4da4-4c7f-a6c5-0498dd2e3ca2",
   "metadata": {
    "citation-manager": {
     "citations": {
      "1e66l": [
       {
        "id": "17220151/U9CMDEDA",
        "source": "zotero"
       }
      ],
      "px6x6": [
       {
        "id": "17220151/U9CMDEDA",
        "source": "zotero"
       }
      ],
      "wmqdb": [
       {
        "id": "17220151/U9CMDEDA",
        "source": "zotero"
       }
      ]
     }
    }
   },
   "source": [
    "### Introduction\n",
    "According to Teal, a Sports Analyst is someone who analyzes data and utilizes statistics to interpret and communicate insights to various members of an organization. They can have an influence on game strategy as well as player trades and signings. These analysts can also use their findings to make changes to help an organization change its business strategies. Specifically, they can influence marketing strategies, fan engagement, and financial decisions <cite id=\"px6x6\"><a href=\"#zotero%7C17220151%2FU9CMDEDA\">(<i>What Is a Sports Analyst?</i>, n.d.)</a></cite>.\"\n",
    "\n",
    "Among Sports Analysts there are many different concentrations. The two main types of analysts that we will explore in this project are Scouting Analysts and Game Analysts. \n",
    "\n",
    "### Scouting Analysts\n",
    "Scouting Analysts evaluate and seek talent for their organizations. They mainly analyze statistics and videos and use traditional scouting methods to evaluate athletes. These analysts consider not only raw talent but also how these players fit within their team’s schemes and systems.\n",
    "\n",
    "These analysts are especially valuable for organizations that value recruitment through trades and free agency, such as basketball, football, and baseball teams. Throughout the project, we will discuss the implications of LLMs for strategic analysts for basketball teams. <cite id=\"1e66l\"><a href=\"#zotero%7C17220151%2FU9CMDEDA\">(<i>What Is a Sports Analyst?</i>, n.d.)</a></cite>.\"\n",
    "\n",
    "### Game Analysts\n",
    "\"Game Analysts focus on the tactical and strategic elements of sports competition. They analyze past games and scout opponents to develop game plans and strategies. By studying patterns, player tendencies, and team formations, Game Analysts provide coaches with actionable insights that can influence game-day decisions. Their work often involves preparing detailed reports and presenting findings to the coaching staff. Game Analysts are essential in sports where strategy and in-game adjustments play a significant role in determining the outcome of a match <cite id=\"wmqdb\"><a href=\"#zotero%7C17220151%2FU9CMDEDA\">(<i>What Is a Sports Analyst?</i>, n.d.)</a></cite>.\"\n",
    "\n",
    "### Focus of the Project\n",
    "For the rest of the project, we will explore how LLMs can help these two types of Analysts in basketball organizations. \n"
   ]
  },
  {
   "cell_type": "markdown",
   "id": "59ebfc2c-16a1-473e-bde9-1143e79226d7",
   "metadata": {},
   "source": [
    "# How Can Scouting Analysts Use LLMs?\n",
    "- Video Analysis\n",
    "- evaluating individual players\n",
    "- showing their strengths and comparison\n",
    "\n",
    "- Evaluating Players\n",
    "- data to draft decision\n",
    "- predicting success in the future\n",
    "- 2015 draft data\n",
    "\n",
    "- Generating Reports\n",
    "- game basis scouting reports for game analyst\n",
    "- draft decision making and scouting reports for scouting analysts"
   ]
  },
  {
   "cell_type": "markdown",
   "id": "e67f97b8-3965-43fb-bf23-df61b9ec10f5",
   "metadata": {},
   "source": [
    "# Potential Challenges When Using LLMs\n",
    "- not natural language\n",
    "- sports is generated language\n",
    "- this means __\n",
    "- because of this it's hard for LLMs to\n",
    "\n",
    "- Potential Challenges to Overcome\n",
    "\n",
    "\"The \"Hallucination\" Problem: LLMs may generate inaccurate information. Verification against trusted data sources and using LLMs for specific tasks (summaries, comparisons) rather than holistic analysis is crucial.\n",
    "Data Quality Limitations: The amount of well-structured and tagged basketball footage, especially at lower levels, might present a challenge for video analysis.\n",
    "Subjectivity: Areas like team fit and player character are hard for LLMs to grasp. The human element remains essential.\"\n",
    "\n",
    "- however, LLMs are good at this\n",
    "- potential use 1\n",
    "- potential use 2\n",
    "- potential use 3\n"
   ]
  },
  {
   "cell_type": "markdown",
   "id": "230398ad-c782-497d-9301-f3d587a5baf7",
   "metadata": {},
   "source": [
    "# Sources\n",
    "<!-- BIBLIOGRAPHY START -->\n",
    "<div class=\"csl-bib-body\">\n",
    "  <div class=\"csl-entry\"><i id=\"zotero|17220151/U9CMDEDA\"></i><i>What is a Sports Analyst? Explore the Sports Analyst Career Path in 2024</i>. (n.d.). Retrieved May 9, 2024, from <a href=\"https://www.tealhq.com/career-paths/sports-analyst\">https://www.tealhq.com/career-paths/sports-analyst</a></div>\n",
    "</div>\n",
    "<!-- BIBLIOGRAPHY END -->"
   ]
  },
  {
   "cell_type": "code",
   "execution_count": null,
   "id": "10023bd8-75e2-43e5-be34-e14248b60b06",
   "metadata": {},
   "outputs": [],
   "source": []
  }
 ],
 "metadata": {
  "citation-manager": {
   "items": {
    "zotero": {
     "17220151/U9CMDEDA": {
      "URL": "https://www.tealhq.com/career-paths/sports-analyst",
      "abstract": "Learn what Sports Analysts do on a day to day basis, how Sports Analyst responsibilities change at different career levels, what it's like to be a Sports Analyst in 2024, and more details about this career.",
      "accessed": {
       "date-parts": [
        [
         2024,
         5,
         9
        ]
       ]
      },
      "id": "17220151/U9CMDEDA",
      "language": "en",
      "shortTitle": "What is a Sports Analyst?",
      "system_id": "zotero|17220151/U9CMDEDA",
      "title": "What is a Sports Analyst? Explore the Sports Analyst Career Path in 2024",
      "type": "webpage"
     }
    }
   }
  },
  "kernelspec": {
   "display_name": "Python 3.11 (COMM4190)",
   "language": "python",
   "name": "comm4190"
  },
  "language_info": {
   "codemirror_mode": {
    "name": "ipython",
    "version": 3
   },
   "file_extension": ".py",
   "mimetype": "text/x-python",
   "name": "python",
   "nbconvert_exporter": "python",
   "pygments_lexer": "ipython3",
   "version": "3.11.7"
  }
 },
 "nbformat": 4,
 "nbformat_minor": 5
}
