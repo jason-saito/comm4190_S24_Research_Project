{
 "cells": [
  {
   "cell_type": "markdown",
   "id": "1408f148-4da4-4c7f-a6c5-0498dd2e3ca2",
   "metadata": {
    "citation-manager": {
     "citations": {
      "1e66l": [
       {
        "id": "17220151/U9CMDEDA",
        "source": "zotero"
       }
      ],
      "3m0t3": [
       {
        "id": "17220151/WVE6MNJD",
        "source": "zotero"
       }
      ],
      "3zcdn": [
       {
        "id": "17220151/WVE6MNJD",
        "source": "zotero"
       }
      ],
      "px6x6": [
       {
        "id": "17220151/U9CMDEDA",
        "source": "zotero"
       }
      ],
      "wmqdb": [
       {
        "id": "17220151/U9CMDEDA",
        "source": "zotero"
       }
      ],
      "z92py": [
       {
        "id": "17220151/WVE6MNJD",
        "source": "zotero"
       }
      ],
      "znyhr": [
       {
        "id": "17220151/WVE6MNJD",
        "source": "zotero"
       }
      ]
     }
    }
   },
   "source": [
    "# Sports Analytics as a Communicative Context\n",
    "### What is a Sports Analyst?\n",
    "According to Teal, a Sports Analyst is someone who analyzes data and utilizes statistics to interpret and communicate insights to various members of an organization. They can have an influence on game strategy as well as player trades and signings. These analysts can also use their findings to make changes to help an organization change its business strategies. Specifically, they can influence marketing strategies, fan engagement, and financial decisions <cite id=\"px6x6\"><a href=\"#zotero%7C17220151%2FU9CMDEDA\">(<i>What Is a Sports Analyst?</i>, n.d.)</a></cite>.\n",
    "\n",
    "There are many different concentrations among sports analysts. The two main types of analysts that we will explore in this project are Scouting Analysts and Game Analysts. \n",
    "\n",
    "### Scouting Analysts\n",
    "Scouting Analysts evaluate and seek talent for their organizations. They mainly analyze statistics and videos and use traditional scouting methods to evaluate athletes. These analysts consider not only raw talent but also how these players fit within their team’s schemes and systems<cite id=\"3m0t3\"><a href=\"#zotero%7C17220151%2FWVE6MNJD\">(Drapkin, 2024)</a></cite>. Their findings are often presented in terms of scouting reports to General Managers and decision makers for the organization. They often collaborate with the scouting team to provide quantitative metrics for the scouts’ observations<cite id=\"znyhr\"><a href=\"#zotero%7C17220151%2FWVE6MNJD\">(Drapkin, 2024)</a></cite>. \n",
    "\n",
    "These analysts are especially valuable for organizations that value recruitment through trades and free agency, such as basketball, football, and baseball teams. Throughout the project, we will discuss the implications of LLMs for strategic analysts for basketball teams <cite id=\"1e66l\"><a href=\"#zotero%7C17220151%2FU9CMDEDA\">(<i>What Is a Sports Analyst?</i>, n.d.)</a></cite>.\n",
    "\n",
    "### Game Analysts\n",
    "Game Analysts focus on game strategy. They analyze previous games and scout opponents to develop game plans and strategies. \n",
    "\n",
    "They often examine player and team tendencies, look for key matchups, and strive to create winning strategies. They provide these insights in the form of reports to the coaching staff<cite id=\"3zcdn\"><a href=\"#zotero%7C17220151%2FWVE6MNJD\">(Drapkin, 2024)</a></cite>. A huge part of their job is tailoring their findings so that the coaching staff will find it useful and often have to reformat their findings to allow the coaches to get the most out of it. This usually involves creating data visualizations and data tables to clearly communicate their data<cite id=\"z92py\"><a href=\"#zotero%7C17220151%2FWVE6MNJD\">(Drapkin, 2024)</a></cite>. \n",
    "\n",
    "These analysts are crucial for basketball and football, where in-game adjustments can be the difference between winning and losing <cite id=\"wmqdb\"><a href=\"#zotero%7C17220151%2FU9CMDEDA\">(<i>What Is a Sports Analyst?</i>, n.d.)</a></cite>.\n",
    "\n",
    "### Focus of the Project\n",
    "For the rest of the project, we will explore how LLMs can help these two types of Analysts in basketball organizations. \n"
   ]
  },
  {
   "cell_type": "markdown",
   "id": "5e7f6fcc-b6c9-4eb4-a6eb-81a6d83eec62",
   "metadata": {},
   "source": [
    "# What is a Large Language Model?"
   ]
  },
  {
   "cell_type": "markdown",
   "id": "3f3f3698-def6-4304-bf59-49f6a5100ecb",
   "metadata": {
    "citation-manager": {
     "citations": {
      "4s9uu": [
       {
        "id": "17220151/A7PNLSS5",
        "source": "zotero"
       }
      ]
     }
    }
   },
   "source": [
    "# Sports as a Language\n",
    "\n",
    "Sports is a very diverse and complicated language. There are various strategies, statistics, and general knowledge that one must know to truly discuss sports <cite id=\"4s9uu\"><a href=\"#zotero%7C17220151%2FA7PNLSS5\">(Xia et al., 2024)</a></cite>. At the moment LLMs have shown that it can process and understand language, extract information, and answer questions. However, at the moment it struggles to answer complicated sports questions. \n",
    "\n",
    "While sports is a generated language... LLMs can still interact with sports topics such as ... "
   ]
  },
  {
   "cell_type": "markdown",
   "id": "59ebfc2c-16a1-473e-bde9-1143e79226d7",
   "metadata": {},
   "source": [
    "# How LLMs Could Assist Sports Scouting and Game Analysts\n",
    "- Video Analysis\n",
    "- evaluating individual players\n",
    "- showing their strengths and comparison\n",
    "\n",
    "- Evaluating Players\n",
    "- data to draft decision\n",
    "- predicting success in the future\n",
    "- 2015 draft data\n",
    "\n",
    "- Generating Reports\n",
    "- game basis scouting reports for game analyst\n",
    "- draft decision making and scouting reports for scouting analysts"
   ]
  },
  {
   "cell_type": "markdown",
   "id": "230398ad-c782-497d-9301-f3d587a5baf7",
   "metadata": {},
   "source": [
    "# Sources\n",
    "<!-- BIBLIOGRAPHY START -->\n",
    "<div class=\"csl-bib-body\">\n",
    "  <div class=\"csl-entry\"><i id=\"zotero|17220151/WVE6MNJD\"></i>Drapkin, Z. (2024, May 9). <i>A Discussion with Zach Drapkin, Quantitative Analyst from the Philadelphia Eagles</i>.</div>\n",
    "  <div class=\"csl-entry\"><i id=\"zotero|17220151/U9CMDEDA\"></i><i>What is a Sports Analyst? Explore the Sports Analyst Career Path in 2024</i>. (n.d.). Retrieved May 9, 2024, from <a href=\"https://www.tealhq.com/career-paths/sports-analyst\">https://www.tealhq.com/career-paths/sports-analyst</a></div>\n",
    "  <div class=\"csl-entry\"><i id=\"zotero|17220151/A7PNLSS5\"></i>Xia, H., Yang, Z., Wang, Y., Tracy, R., Zhao, Y., Huang, D., Chen, Z., Zhu, Y., Wang, Y., &#38; Shen, W. (2024). <i>SportQA: A Benchmark for Sports Understanding in Large Language Models</i> (arXiv:2402.15862). arXiv. <a href=\"http://arxiv.org/abs/2402.15862\">http://arxiv.org/abs/2402.15862</a></div>\n",
    "</div>\n",
    "<!-- BIBLIOGRAPHY END -->"
   ]
  },
  {
   "cell_type": "code",
   "execution_count": null,
   "id": "10023bd8-75e2-43e5-be34-e14248b60b06",
   "metadata": {},
   "outputs": [],
   "source": []
  }
 ],
 "metadata": {
  "citation-manager": {
   "items": {
    "zotero": {
     "17220151/A7PNLSS5": {
      "URL": "http://arxiv.org/abs/2402.15862",
      "abstract": "A deep understanding of sports, a field rich in strategic and dynamic content, is crucial for advancing Natural Language Processing (NLP). This holds particular significance in the context of evaluating and advancing Large Language Models (LLMs), given the existing gap in specialized benchmarks. To bridge this gap, we introduce SportQA, a novel benchmark specifically designed for evaluating LLMs in the context of sports understanding. SportQA encompasses over 70,000 multiple-choice questions across three distinct difficulty levels, each targeting different aspects of sports knowledge from basic historical facts to intricate, scenario-based reasoning tasks. We conducted a thorough evaluation of prevalent LLMs, mainly utilizing few-shot learning paradigms supplemented by chain-of-thought (CoT) prompting. Our results reveal that while LLMs exhibit competent performance in basic sports knowledge, they struggle with more complex, scenario-based sports reasoning, lagging behind human expertise. The introduction of SportQA marks a significant step forward in NLP, offering a tool for assessing and enhancing sports understanding in LLMs.",
      "accessed": {
       "date-parts": [
        [
         2024,
         4,
         4
        ]
       ]
      },
      "author": [
       {
        "family": "Xia",
        "given": "Haotian"
       },
       {
        "family": "Yang",
        "given": "Zhengbang"
       },
       {
        "family": "Wang",
        "given": "Yuqing"
       },
       {
        "family": "Tracy",
        "given": "Rhys"
       },
       {
        "family": "Zhao",
        "given": "Yun"
       },
       {
        "family": "Huang",
        "given": "Dongdong"
       },
       {
        "family": "Chen",
        "given": "Zezhi"
       },
       {
        "family": "Zhu",
        "given": "Yan"
       },
       {
        "family": "Wang",
        "given": "Yuan-fang"
       },
       {
        "family": "Shen",
        "given": "Weining"
       }
      ],
      "id": "17220151/A7PNLSS5",
      "issued": {
       "date-parts": [
        [
         2024,
         2,
         24
        ]
       ]
      },
      "note": "arXiv:2402.15862 [cs]",
      "number": "arXiv:2402.15862",
      "publisher": "arXiv",
      "shortTitle": "SportQA",
      "system_id": "zotero|17220151/A7PNLSS5",
      "title": "SportQA: A Benchmark for Sports Understanding in Large Language Models",
      "type": "article"
     },
     "17220151/U9CMDEDA": {
      "URL": "https://www.tealhq.com/career-paths/sports-analyst",
      "abstract": "Learn what Sports Analysts do on a day to day basis, how Sports Analyst responsibilities change at different career levels, what it's like to be a Sports Analyst in 2024, and more details about this career.",
      "accessed": {
       "date-parts": [
        [
         2024,
         5,
         9
        ]
       ]
      },
      "id": "17220151/U9CMDEDA",
      "language": "en",
      "shortTitle": "What is a Sports Analyst?",
      "system_id": "zotero|17220151/U9CMDEDA",
      "title": "What is a Sports Analyst? Explore the Sports Analyst Career Path in 2024",
      "type": "webpage"
     },
     "17220151/WVE6MNJD": {
      "author": [
       {
        "family": "Drapkin",
        "given": "Zach"
       }
      ],
      "id": "17220151/WVE6MNJD",
      "issued": {
       "date-parts": [
        [
         2024,
         5,
         9
        ]
       ]
      },
      "system_id": "zotero|17220151/WVE6MNJD",
      "title": "A Discussion with Zach Drapkin, Quantitative Analyst from the Philadelphia Eagles",
      "type": "song"
     }
    }
   }
  },
  "kernelspec": {
   "display_name": "Python 3.11 (COMM4190)",
   "language": "python",
   "name": "comm4190"
  },
  "language_info": {
   "codemirror_mode": {
    "name": "ipython",
    "version": 3
   },
   "file_extension": ".py",
   "mimetype": "text/x-python",
   "name": "python",
   "nbconvert_exporter": "python",
   "pygments_lexer": "ipython3",
   "version": "3.11.7"
  }
 },
 "nbformat": 4,
 "nbformat_minor": 5
}
